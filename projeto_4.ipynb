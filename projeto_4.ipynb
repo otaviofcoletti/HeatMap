{
  "nbformat": 4,
  "nbformat_minor": 0,
  "metadata": {
    "colab": {
      "provenance": []
    },
    "kernelspec": {
      "name": "python3",
      "display_name": "Python 3"
    },
    "language_info": {
      "name": "python"
    }
  },
  "cells": [
    {
      "cell_type": "markdown",
      "source": [
        "\n",
        "# Projeto 2 - SCC0252 (Visualização Computacional)\n",
        "\n",
        "\n",
        "*   Otávio Ferracioli Coletti - 11767796\n",
        "*   Fernando César Lopes Barbosa Filho - 10260559\n",
        "\n",
        "\\\\\n",
        "\n",
        "---"
      ],
      "metadata": {
        "id": "HMw6rO2PdUp9"
      }
    },
    {
      "cell_type": "code",
      "source": [
        "# Bibliotecas importadas\n",
        "import numpy as np\n",
        "import pandas as pd\n",
        "import seaborn as sns\n",
        "import plotly.express as px\n",
        "import ipywidgets as widgets\n",
        "from ipywidgets import Button, Layout\n",
        "from matplotlib.spines import rcParams\n",
        "import plotly.graph_objects as go\n",
        "import matplotlib.pyplot as plt\n",
        "from matplotlib import legend\n",
        "from pandas import Series\n",
        "import ipywidgets\n",
        "import random\n",
        "import plotly\n",
        "import io"
      ],
      "metadata": {
        "id": "fjz4DBFG-Zwa"
      },
      "execution_count": 1,
      "outputs": []
    },
    {
      "cell_type": "code",
      "source": [
        "# Conjunto de dados do Spotify\n",
        "url = 'https://raw.githubusercontent.com/otaviofcoletti/VIZCOMP/main/SpotifyFeatures(1).csv'\n",
        "df = pd.read_csv(url)"
      ],
      "metadata": {
        "id": "LzrmJrCo-tYO"
      },
      "execution_count": 2,
      "outputs": []
    },
    {
      "cell_type": "code",
      "source": [
        "popular_music_rank = df.sort_values('popularity', ascending=False) "
      ],
      "metadata": {
        "id": "0T9xDSopHM0X"
      },
      "execution_count": 3,
      "outputs": []
    },
    {
      "cell_type": "markdown",
      "source": [
        "## Heatmap\n",
        "\n",
        "Geramos um *heatmap* que exibe os valores de correlação entre os atributos de todas as músicas do Spotify.\n"
      ],
      "metadata": {
        "id": "T-EZV92Jrr85"
      }
    },
    {
      "cell_type": "code",
      "source": [
        "popular_music_rank = df.sort_values('popularity', ascending=False) "
      ],
      "metadata": {
        "id": "pUiWtLJbOnXU"
      },
      "execution_count": 4,
      "outputs": []
    },
    {
      "cell_type": "code",
      "source": [
        "def heatmap_interactive(**ch_list):\n",
        "\n",
        "  categories = ['valence','acousticness','danceability','energy','liveness','speechiness','instrumentalness','loudness']\n",
        "  features = []\n",
        "\n",
        "  for i in categories:\n",
        "    if ch_list[i]:\n",
        "      features.append(i)\n",
        "\n",
        "  selection = df[features]\n",
        "  plt.figure(figsize=(15,10))\n",
        "  sns.heatmap(selection.corr(),annot=True,cmap=\"coolwarm\")\n",
        "  plt.title('Heatmap of Correlations')\n",
        "  plt.show()"
      ],
      "metadata": {
        "id": "jnrQzz9mwmWF"
      },
      "execution_count": 5,
      "outputs": []
    },
    {
      "cell_type": "code",
      "source": [
        "cb_list = {description: widgets.Checkbox(\n",
        "    value=random.choice([True, False]),\n",
        "    description=description,\n",
        "    disabled=False,\n",
        "    indent=False\n",
        ") for description in ['valence','acousticness','danceability','energy','liveness','speechiness','instrumentalness','loudness']}"
      ],
      "metadata": {
        "id": "RtwKObzERjcF"
      },
      "execution_count": 6,
      "outputs": []
    },
    {
      "cell_type": "markdown",
      "source": [
        "Selecione nos **checkboxes** as *features* nas quais se deseja comparar a correlação no **heatmap**:"
      ],
      "metadata": {
        "id": "6fbRk3q3NU2h"
      }
    },
    {
      "cell_type": "code",
      "source": [
        "widgets.interactive(heatmap_interactive, **cb_list)"
      ],
      "metadata": {
        "id": "bo_eBQEAROoH"
      },
      "execution_count": null,
      "outputs": []
    }
  ]
}